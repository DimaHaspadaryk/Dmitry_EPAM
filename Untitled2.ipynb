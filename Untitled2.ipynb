{
  "nbformat": 4,
  "nbformat_minor": 0,
  "metadata": {
    "colab": {
      "provenance": [],
      "authorship_tag": "ABX9TyN/I65iNF+6Ydy1uEHWh3VY",
      "include_colab_link": true
    },
    "kernelspec": {
      "name": "python3",
      "display_name": "Python 3"
    },
    "language_info": {
      "name": "python"
    }
  },
  "cells": [
    {
      "cell_type": "markdown",
      "metadata": {
        "id": "view-in-github",
        "colab_type": "text"
      },
      "source": [
        "<a href=\"https://colab.research.google.com/github/Dimasiys228/Dmitry/blob/main/Untitled2.ipynb\" target=\"_parent\"><img src=\"https://colab.research.google.com/assets/colab-badge.svg\" alt=\"Open In Colab\"/></a>"
      ]
    },
    {
      "cell_type": "markdown",
      "source": [
        "1.1. cubic_sum"
      ],
      "metadata": {
        "id": "NkCNBLbNn4zn"
      }
    },
    {
      "cell_type": "code",
      "source": [
        "def cubic_sum(x,y,z):\n",
        "    cub = x **3 + y **3 + z**3\n",
        "    return cub"
      ],
      "metadata": {
        "id": "JNg5sz9Bn5yH"
      },
      "execution_count": null,
      "outputs": []
    },
    {
      "cell_type": "code",
      "source": [
        " cubic_sum(1,2,3)"
      ],
      "metadata": {
        "colab": {
          "base_uri": "https://localhost:8080/"
        },
        "id": "lCqHJTUiog0L",
        "outputId": "453d5d4c-28ea-4456-f9ad-e260c7372b6c"
      },
      "execution_count": null,
      "outputs": [
        {
          "output_type": "execute_result",
          "data": {
            "text/plain": [
              "36"
            ]
          },
          "metadata": {},
          "execution_count": 8
        }
      ]
    },
    {
      "cell_type": "markdown",
      "source": [
        "1.2. power_of_sum"
      ],
      "metadata": {
        "id": "3_1ui8EgpBSE"
      }
    },
    {
      "cell_type": "code",
      "source": [
        "def power_of_sum(a,b,n):\n",
        "    power = (a+b)**n\n",
        "    return power"
      ],
      "metadata": {
        "id": "ZHKAC3E7pFBO"
      },
      "execution_count": null,
      "outputs": []
    },
    {
      "cell_type": "code",
      "source": [
        "power_of_sum(2, 3, 5)"
      ],
      "metadata": {
        "colab": {
          "base_uri": "https://localhost:8080/"
        },
        "id": "F42qRAYNppoh",
        "outputId": "a27c9ca4-c930-4790-aaba-00cf7ea86df7"
      },
      "execution_count": null,
      "outputs": [
        {
          "output_type": "execute_result",
          "data": {
            "text/plain": [
              "3125"
            ]
          },
          "metadata": {},
          "execution_count": 10
        }
      ]
    },
    {
      "cell_type": "markdown",
      "source": [
        "1.3. delta "
      ],
      "metadata": {
        "id": "LbHMgt4Tp21B"
      }
    },
    {
      "cell_type": "code",
      "source": [
        "def delta(a,b,c):\n",
        "    dt = b**2 - 4*a*c\n",
        "    return dt"
      ],
      "metadata": {
        "id": "aQ3rHHnlp8OC"
      },
      "execution_count": null,
      "outputs": []
    },
    {
      "cell_type": "code",
      "source": [
        "delta(1,2,1)"
      ],
      "metadata": {
        "colab": {
          "base_uri": "https://localhost:8080/"
        },
        "id": "3H6sRYS6qjGf",
        "outputId": "b4e772fc-0389-464d-96f3-a4c0a52452df"
      },
      "execution_count": null,
      "outputs": [
        {
          "output_type": "execute_result",
          "data": {
            "text/plain": [
              "0"
            ]
          },
          "metadata": {},
          "execution_count": 15
        }
      ]
    },
    {
      "cell_type": "markdown",
      "source": [
        "1.4. profit"
      ],
      "metadata": {
        "id": "lEuzVKweqqLO"
      }
    },
    {
      "cell_type": "code",
      "source": [
        "def profit(x):\n",
        "    pr = -0.1 * x **2 + 231 * x - 1500\n",
        "    return pr"
      ],
      "metadata": {
        "id": "eIdKiHyyquW4"
      },
      "execution_count": null,
      "outputs": []
    },
    {
      "cell_type": "code",
      "source": [
        "profit(0)"
      ],
      "metadata": {
        "colab": {
          "base_uri": "https://localhost:8080/"
        },
        "id": "_Gd4SQJtrYZj",
        "outputId": "d3aeca7c-753e-47bd-9b64-d01f11c831b7"
      },
      "execution_count": null,
      "outputs": [
        {
          "output_type": "execute_result",
          "data": {
            "text/plain": [
              "-1500.0"
            ]
          },
          "metadata": {},
          "execution_count": 17
        }
      ]
    },
    {
      "cell_type": "markdown",
      "source": [
        "1.5. product_and_price "
      ],
      "metadata": {
        "id": "pcm4ILvIricq"
      }
    },
    {
      "cell_type": "code",
      "source": [
        "def product_and_price(product,price):\n",
        "    name = product + \" was purchased for \" + price\n",
        "    return name\n"
      ],
      "metadata": {
        "id": "t7ZN614drlOP"
      },
      "execution_count": null,
      "outputs": []
    },
    {
      "cell_type": "code",
      "source": [
        "product_and_price('banana', '5.29')"
      ],
      "metadata": {
        "colab": {
          "base_uri": "https://localhost:8080/",
          "height": 37
        },
        "id": "Cpl2eWREsN67",
        "outputId": "5c817c15-df90-4199-c84b-e8a152103ee8"
      },
      "execution_count": null,
      "outputs": [
        {
          "output_type": "execute_result",
          "data": {
            "text/plain": [
              "'banana was purchased for 5.29'"
            ],
            "application/vnd.google.colaboratory.intrinsic+json": {
              "type": "string"
            }
          },
          "metadata": {},
          "execution_count": 21
        }
      ]
    },
    {
      "cell_type": "markdown",
      "source": [
        "1.6. euc_distance"
      ],
      "metadata": {
        "id": "pkm8Xoyvse3u"
      }
    },
    {
      "cell_type": "code",
      "source": [
        "def euc_distance(x,y,z):\n",
        "    result = (x**2 + y**2 + z**2) ** 0.5\n",
        "    return result"
      ],
      "metadata": {
        "id": "a--P72gTsf1C"
      },
      "execution_count": null,
      "outputs": []
    },
    {
      "cell_type": "code",
      "source": [
        "euc_distance(1, 1, 1)"
      ],
      "metadata": {
        "colab": {
          "base_uri": "https://localhost:8080/"
        },
        "id": "ekh4b7IEtDCb",
        "outputId": "be7c98ee-2386-441b-e3b6-5e2a1e882abc"
      },
      "execution_count": null,
      "outputs": [
        {
          "output_type": "execute_result",
          "data": {
            "text/plain": [
              "1.7320508075688772"
            ]
          },
          "metadata": {},
          "execution_count": 24
        }
      ]
    },
    {
      "cell_type": "markdown",
      "source": [
        "1.7. cuboid"
      ],
      "metadata": {
        "id": "miJZ-ZfdtMiB"
      }
    },
    {
      "cell_type": "code",
      "source": [
        "def cuboid(a,b,h):\n",
        "    p = 2*(a*b + a*h + b*h)\n",
        "    v = a*b*h\n",
        "    return p,v"
      ],
      "metadata": {
        "id": "zy1NRirKtNMV"
      },
      "execution_count": null,
      "outputs": []
    },
    {
      "cell_type": "code",
      "source": [
        "cuboid(1, 1, 1)"
      ],
      "metadata": {
        "colab": {
          "base_uri": "https://localhost:8080/"
        },
        "id": "FdeWKnjLt034",
        "outputId": "13cfed2e-e733-4694-f0e5-fa32643270e9"
      },
      "execution_count": null,
      "outputs": [
        {
          "output_type": "execute_result",
          "data": {
            "text/plain": [
              "(6, 1)"
            ]
          },
          "metadata": {},
          "execution_count": 26
        }
      ]
    },
    {
      "cell_type": "markdown",
      "source": [
        "1.8. insert_at"
      ],
      "metadata": {
        "id": "jRon0jvTt598"
      }
    },
    {
      "cell_type": "code",
      "source": [
        "def insert_at(name,letter,i):\n",
        "  new = name[:i] + letter + name[i:]\n",
        "  return new"
      ],
      "metadata": {
        "id": "QrCmAsJFuKjX"
      },
      "execution_count": null,
      "outputs": []
    },
    {
      "cell_type": "code",
      "source": [
        "insert_at('Pyhon', 't', 2)"
      ],
      "metadata": {
        "colab": {
          "base_uri": "https://localhost:8080/",
          "height": 37
        },
        "id": "BVzp2EmTvBHJ",
        "outputId": "8dc4f142-0932-4e7e-a6c7-237527ad6f28"
      },
      "execution_count": null,
      "outputs": [
        {
          "output_type": "execute_result",
          "data": {
            "text/plain": [
              "'Python'"
            ],
            "application/vnd.google.colaboratory.intrinsic+json": {
              "type": "string"
            }
          },
          "metadata": {},
          "execution_count": 28
        }
      ]
    },
    {
      "cell_type": "markdown",
      "source": [
        "2.1. even_odd\n"
      ],
      "metadata": {
        "id": "84V5Rq51TLIT"
      }
    },
    {
      "cell_type": "code",
      "source": [
        "def even_odd(number):\n",
        "   if number % 2 == 0:\n",
        "    return \"even\"\n",
        "   else: \n",
        "          return \"odd\" "
      ],
      "metadata": {
        "id": "GZ7ROfy8TRAN"
      },
      "execution_count": 4,
      "outputs": []
    },
    {
      "cell_type": "code",
      "source": [
        "even_odd(25)"
      ],
      "metadata": {
        "colab": {
          "base_uri": "https://localhost:8080/",
          "height": 37
        },
        "id": "JyDbLzPSUNmd",
        "outputId": "65eed78b-264a-4d43-8206-16f3a527c53b"
      },
      "execution_count": 6,
      "outputs": [
        {
          "output_type": "execute_result",
          "data": {
            "text/plain": [
              "'odd'"
            ],
            "application/vnd.google.colaboratory.intrinsic+json": {
              "type": "string"
            }
          },
          "metadata": {},
          "execution_count": 6
        }
      ]
    },
    {
      "cell_type": "markdown",
      "source": [
        "2.2. delta_int "
      ],
      "metadata": {
        "id": "AUke1aT0UT4e"
      }
    },
    {
      "cell_type": "code",
      "source": [
        "def delta_int( a,b,c):\n",
        "  if b**2 - 4*a*c == 0:\n",
        "    return \"Delta is zero\"\n",
        "  if b**2 - 4*a*c > 0:\n",
        "    return \"Delta is positive\"\n",
        "  if b**2 - 4*a*c < 0:\n",
        "    return \"Delta is negative\""
      ],
      "metadata": {
        "id": "t4l0fEe2UcMV"
      },
      "execution_count": 7,
      "outputs": []
    },
    {
      "cell_type": "code",
      "source": [
        "delta_int(-1, -2, -2)"
      ],
      "metadata": {
        "colab": {
          "base_uri": "https://localhost:8080/",
          "height": 37
        },
        "id": "NAL7EtZ7VIaX",
        "outputId": "a9a1a1a7-cef4-4d9b-872d-9778e6d49346"
      },
      "execution_count": 10,
      "outputs": [
        {
          "output_type": "execute_result",
          "data": {
            "text/plain": [
              "'Delta is negative'"
            ],
            "application/vnd.google.colaboratory.intrinsic+json": {
              "type": "string"
            }
          },
          "metadata": {},
          "execution_count": 10
        }
      ]
    },
    {
      "cell_type": "markdown",
      "source": [
        "2.3. in_range\n"
      ],
      "metadata": {
        "id": "8E0qf0WCVUqM"
      }
    },
    {
      "cell_type": "code",
      "source": [
        "def in_range(x,y,z):\n",
        "   if x in range(y,z):\n",
        "     return True\n",
        "   else: \n",
        "      return False "
      ],
      "metadata": {
        "id": "Ll3isSocVX33"
      },
      "execution_count": 17,
      "outputs": []
    },
    {
      "cell_type": "code",
      "source": [
        "in_range(3, 0, 4)"
      ],
      "metadata": {
        "colab": {
          "base_uri": "https://localhost:8080/"
        },
        "id": "pYn2EfulWOQF",
        "outputId": "057f59ad-c080-4371-a540-3e803af1a3d9"
      },
      "execution_count": 19,
      "outputs": [
        {
          "output_type": "execute_result",
          "data": {
            "text/plain": [
              "True"
            ]
          },
          "metadata": {},
          "execution_count": 19
        }
      ]
    },
    {
      "cell_type": "markdown",
      "source": [
        "2.4. divisibility"
      ],
      "metadata": {
        "id": "UapKYv6KWUid"
      }
    },
    {
      "cell_type": "code",
      "source": [
        "def divisibility(a,b):\n",
        "  if a%b == 0:\n",
        "    return True \n",
        "  else: \n",
        "      return False "
      ],
      "metadata": {
        "id": "bPPj4NMDWYfH"
      },
      "execution_count": 21,
      "outputs": []
    },
    {
      "cell_type": "code",
      "source": [
        "divisibility(50, 2)"
      ],
      "metadata": {
        "colab": {
          "base_uri": "https://localhost:8080/"
        },
        "id": "zYcAidonXmLz",
        "outputId": "3b3bd938-4ed2-4aa2-fc23-d1da0e4074d9"
      },
      "execution_count": 23,
      "outputs": [
        {
          "output_type": "execute_result",
          "data": {
            "text/plain": [
              "True"
            ]
          },
          "metadata": {},
          "execution_count": 23
        }
      ]
    },
    {
      "cell_type": "markdown",
      "source": [
        "2.5. max_from_3"
      ],
      "metadata": {
        "id": "lTfRcGvFXw7n"
      }
    },
    {
      "cell_type": "code",
      "source": [
        "\n",
        "def max_from_3(a,b,c):\n",
        "  if a > b and a > c: \n",
        "   return a \n",
        "  if a < b and b > c: \n",
        "   return b \n",
        "  if c > b and a < c: \n",
        "   return c "
      ],
      "metadata": {
        "id": "fCnRBxi8X18n"
      },
      "execution_count": 31,
      "outputs": []
    },
    {
      "cell_type": "code",
      "source": [
        "max_from_3(-5, -3, -10)"
      ],
      "metadata": {
        "colab": {
          "base_uri": "https://localhost:8080/"
        },
        "id": "GlqPBaFdYe-b",
        "outputId": "24b98ae2-e083-4083-8006-d064cd7740a4"
      },
      "execution_count": 33,
      "outputs": [
        {
          "output_type": "execute_result",
          "data": {
            "text/plain": [
              "-3"
            ]
          },
          "metadata": {},
          "execution_count": 33
        }
      ]
    },
    {
      "cell_type": "markdown",
      "source": [
        "2.6. calculate"
      ],
      "metadata": {
        "id": "jXZtDfKaZyNN"
      }
    },
    {
      "cell_type": "code",
      "source": [
        "def calculate(a,b,function):\n",
        "  if function == \"sum\":\n",
        "    return a+b\n",
        "  if function == \"multi\":\n",
        "    return a*b\n",
        "  if function == \"diff\":\n",
        "    return a-b\n",
        "  if function == \"div\":\n",
        "    return a/b\n",
        "  if function == \"pow\":\n",
        "    return a**b\n",
        " "
      ],
      "metadata": {
        "id": "wN910Cw2Z2Va"
      },
      "execution_count": 35,
      "outputs": []
    },
    {
      "cell_type": "code",
      "source": [
        "calculate(5, -3, 'pow')"
      ],
      "metadata": {
        "colab": {
          "base_uri": "https://localhost:8080/"
        },
        "id": "TkIcV8VQbdKL",
        "outputId": "5c644f83-9341-476a-a4b8-5710404715de"
      },
      "execution_count": 39,
      "outputs": [
        {
          "output_type": "execute_result",
          "data": {
            "text/plain": [
              "0.008"
            ]
          },
          "metadata": {},
          "execution_count": 39
        }
      ]
    },
    {
      "cell_type": "markdown",
      "source": [
        "2.7. prefix_slice"
      ],
      "metadata": {
        "id": "oHJddeGLbrDX"
      }
    },
    {
      "cell_type": "code",
      "source": [
        "def prefix_slice(word,part):\n",
        "  if part in word:\n",
        "    return True\n",
        "  else:\n",
        "    return False "
      ],
      "metadata": {
        "id": "J3rRXQlcbtG8"
      },
      "execution_count": 40,
      "outputs": []
    },
    {
      "cell_type": "code",
      "source": [
        "prefix_slice('word', 'or')"
      ],
      "metadata": {
        "colab": {
          "base_uri": "https://localhost:8080/"
        },
        "id": "BPfaT4TjcPKG",
        "outputId": "d0f65253-ee30-4edb-fedb-99c6fd36663d"
      },
      "execution_count": 43,
      "outputs": [
        {
          "output_type": "execute_result",
          "data": {
            "text/plain": [
              "True"
            ]
          },
          "metadata": {},
          "execution_count": 43
        }
      ]
    },
    {
      "cell_type": "markdown",
      "source": [
        "2.8. leap_check"
      ],
      "metadata": {
        "id": "lRelBkeXcdS_"
      }
    },
    {
      "cell_type": "code",
      "source": [
        "def leap_check(year):\n",
        "   if year % 4 == 0 and year % 100 != 0 or year % 400 == 0:\n",
        "     return True\n",
        "   else:\n",
        "      return False "
      ],
      "metadata": {
        "id": "P2_XG8fqchCE"
      },
      "execution_count": 46,
      "outputs": []
    },
    {
      "cell_type": "code",
      "source": [
        "leap_check(2023) "
      ],
      "metadata": {
        "colab": {
          "base_uri": "https://localhost:8080/"
        },
        "id": "2ri1EzcVeV4N",
        "outputId": "2098a8fc-4441-4803-d162-35d5100afad9"
      },
      "execution_count": 51,
      "outputs": [
        {
          "output_type": "execute_result",
          "data": {
            "text/plain": [
              "False"
            ]
          },
          "metadata": {},
          "execution_count": 51
        }
      ]
    }
  ]
}